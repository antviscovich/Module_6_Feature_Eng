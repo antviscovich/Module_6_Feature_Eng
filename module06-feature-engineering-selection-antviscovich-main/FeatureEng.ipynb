{
 "cells": [
  {
   "cell_type": "markdown",
   "metadata": {},
   "source": [
    "### Student Name: Anthony Viscovich"
   ]
  },
  {
   "cell_type": "code",
   "execution_count": 63,
   "metadata": {},
   "outputs": [],
   "source": [
    "#TODO: import the modules\n",
    "import pandas as pd\n",
    "import matplotlib.pyplot as plt\n",
    "from sklearn.feature_selection import RFE, SelectKBest\n",
    "from sklearn import svm\n",
    "from sklearn.preprocessing import MinMaxScaler\n",
    "from sklearn import preprocessing"
   ]
  },
  {
   "cell_type": "markdown",
   "metadata": {},
   "source": [
    "### Step 1 - Load the data"
   ]
  },
  {
   "cell_type": "code",
   "execution_count": 64,
   "metadata": {},
   "outputs": [
    {
     "data": {
      "text/plain": [
       "<AxesSubplot:>"
      ]
     },
     "execution_count": 64,
     "metadata": {},
     "output_type": "execute_result"
    },
    {
     "data": {
      "image/png": "[encoded data removed]",
      "text/plain": [
       "<Figure size 432x288 with 1 Axes>"
      ]
     },
     "metadata": {
      "needs_background": "light"
     },
     "output_type": "display_data"
    }
   ],
   "source": [
    "sample_size = 1000\n",
    "file_path   = 'trip_data.csv' #TODO: provide the file path or URL to the dataset `trip_data.csv`\n",
    "\n",
    "df = pd.read_csv(file_path)\n",
    "df = df.groupby('tip').apply(lambda x: x.sample(sample_size))\n",
    "df = df.sample(frac=1) #shuffle the dataframe rows\n",
    "\n",
    "#visualize the sample data, which contain 1000 observations from each class\n",
    "df.tip.value_counts().sort_index().plot.bar()"
   ]
  },
  {
   "cell_type": "code",
   "execution_count": 65,
   "metadata": {},
   "outputs": [],
   "source": [
    "df['lpep_dropoff_datetime'] = pd.to_timedelta(df['lpep_dropoff_datetime'].str.split().str[1]).dt.total_seconds()\n",
    "df['lpep_pickup_datetime'] = pd.to_timedelta(df['lpep_pickup_datetime'].str.split().str[1]).dt.total_seconds()\n"
   ]
  },
  {
   "cell_type": "markdown",
   "metadata": {},
   "source": [
    "### Step 2: Create a new feature called `trip_duration`"
   ]
  },
  {
   "cell_type": "code",
   "execution_count": 66,
   "metadata": {},
   "outputs": [],
   "source": [
    "#Create a new feature called trip_duration and add it to the dataframe\n",
    "\n",
    "t_d= df['lpep_dropoff_datetime'] - df['lpep_pickup_datetime'] #TODO: Calculate the difference between `lpep_pickup_datetime` and `lpep_dropoff_datetime` in seconds (this should be a positive number).\n",
    "\n",
    "df['trip_duration'] = t_d#TODO: store the elapsed time (from above) into the dataframe.\n",
    "\n",
    "del df['lpep_dropoff_datetime']\n",
    "del df['lpep_pickup_datetime'] #Remove the `lpep_pickup_datetime` and `lpep_dropoff_datetime` from the dataframe."
   ]
  },
  {
   "cell_type": "markdown",
   "metadata": {},
   "source": [
    "### Step 3: Encode the labels in the `tip` field.\n",
    "Use the [LabelEncoder](https://scikit-learn.org/stable/modules/generated/sklearn.preprocessing.LabelEncoder.html) in scikit learn."
   ]
  },
  {
   "cell_type": "code",
   "execution_count": 68,
   "metadata": {},
   "outputs": [
    {
     "name": "stdout",
     "output_type": "stream",
     "text": [
      "['good' 'low' 'no-tip' 'standard']\n"
     ]
    }
   ],
   "source": [
    "#Encode the class labels\n",
    "\n",
    "le = preprocessing.LabelEncoder() #TODO: Initialize the `LabelEncoder`\n",
    "\n",
    "le.fit(df['tip'])#TODO: Fit the `LabelEncoder` to the class labels in the 'tip' field\n",
    "\n",
    "le.classes_#TODO: Use the `LabelEncoder` to encode class labels in the 'tip' field.\n",
    "\n",
    "print(le.classes_)#TODO: Display the encoded labels\n"
   ]
  },
  {
   "cell_type": "code",
   "execution_count": 73,
   "metadata": {},
   "outputs": [],
   "source": [
    "#assign the input features and the class labels to variables 'X' and 'y' respectively.\n",
    "\n",
    "X = df.iloc[:,0:14].to_numpy() #TODO: assign the input features (in the dataframe) to a variable 'X'.\n",
    "y = df.iloc[:,14].tolist() #TODO: assign the encoded labels to a variale 'y'."
   ]
  },
  {
   "cell_type": "markdown",
   "metadata": {},
   "source": [
    "### Step 4: Feature selection"
   ]
  },
  {
   "cell_type": "markdown",
   "metadata": {},
   "source": [
    "#### Filter Methods"
   ]
  },
  {
   "cell_type": "markdown",
   "metadata": {},
   "source": [
    "[Univariate feature selection](https://scikit-learn.org/stable/modules/feature_selection.html#univariate-feature-selection): use [SelectKBest](https://scikit-learn.org/stable/modules/generated/sklearn.feature_selection.SelectKBest.html#sklearn.feature_selection.SelectKBest) to select the seven highest scoring features (i.e. k=7)."
   ]
  },
  {
   "cell_type": "code",
   "execution_count": 74,
   "metadata": {},
   "outputs": [
    {
     "data": {
      "text/html": [
       "<div>\n",
       "<style scoped>\n",
       "    .dataframe tbody tr th:only-of-type {\n",
       "        vertical-align: middle;\n",
       "    }\n",
       "\n",
       "    .dataframe tbody tr th {\n",
       "        vertical-align: top;\n",
       "    }\n",
       "\n",
       "    .dataframe thead th {\n",
       "        text-align: right;\n",
       "    }\n",
       "</style>\n",
       "<table border=\"1\" class=\"dataframe\">\n",
       "  <thead>\n",
       "    <tr style=\"text-align: right;\">\n",
       "      <th></th>\n",
       "      <th></th>\n",
       "      <th>VendorID</th>\n",
       "      <th>DOLocationID</th>\n",
       "      <th>trip_distance</th>\n",
       "      <th>fare_amount</th>\n",
       "      <th>extra</th>\n",
       "      <th>total_amount</th>\n",
       "      <th>congestion_surcharge</th>\n",
       "    </tr>\n",
       "    <tr>\n",
       "      <th>tip</th>\n",
       "      <th></th>\n",
       "      <th></th>\n",
       "      <th></th>\n",
       "      <th></th>\n",
       "      <th></th>\n",
       "      <th></th>\n",
       "      <th></th>\n",
       "      <th></th>\n",
       "    </tr>\n",
       "  </thead>\n",
       "  <tbody>\n",
       "    <tr>\n",
       "      <th>low</th>\n",
       "      <th>63810</th>\n",
       "      <td>2</td>\n",
       "      <td>141</td>\n",
       "      <td>3.00</td>\n",
       "      <td>14.0</td>\n",
       "      <td>1.0</td>\n",
       "      <td>20.55</td>\n",
       "      <td>2.75</td>\n",
       "    </tr>\n",
       "    <tr>\n",
       "      <th>good</th>\n",
       "      <th>85051</th>\n",
       "      <td>2</td>\n",
       "      <td>61</td>\n",
       "      <td>2.79</td>\n",
       "      <td>12.5</td>\n",
       "      <td>0.0</td>\n",
       "      <td>16.62</td>\n",
       "      <td>0.00</td>\n",
       "    </tr>\n",
       "    <tr>\n",
       "      <th>standard</th>\n",
       "      <th>101774</th>\n",
       "      <td>2</td>\n",
       "      <td>28</td>\n",
       "      <td>1.60</td>\n",
       "      <td>9.0</td>\n",
       "      <td>1.0</td>\n",
       "      <td>12.96</td>\n",
       "      <td>0.00</td>\n",
       "    </tr>\n",
       "    <tr>\n",
       "      <th>no-tip</th>\n",
       "      <th>129046</th>\n",
       "      <td>2</td>\n",
       "      <td>42</td>\n",
       "      <td>1.70</td>\n",
       "      <td>11.0</td>\n",
       "      <td>0.0</td>\n",
       "      <td>11.80</td>\n",
       "      <td>0.00</td>\n",
       "    </tr>\n",
       "    <tr>\n",
       "      <th>good</th>\n",
       "      <th>14952</th>\n",
       "      <td>2</td>\n",
       "      <td>166</td>\n",
       "      <td>3.11</td>\n",
       "      <td>12.0</td>\n",
       "      <td>1.0</td>\n",
       "      <td>17.25</td>\n",
       "      <td>0.00</td>\n",
       "    </tr>\n",
       "  </tbody>\n",
       "</table>\n",
       "</div>"
      ],
      "text/plain": [
       "                 VendorID  DOLocationID  trip_distance  fare_amount  extra  \\\n",
       "tip                                                                          \n",
       "low      63810          2           141           3.00         14.0    1.0   \n",
       "good     85051          2            61           2.79         12.5    0.0   \n",
       "standard 101774         2            28           1.60          9.0    1.0   \n",
       "no-tip   129046         2            42           1.70         11.0    0.0   \n",
       "good     14952          2           166           3.11         12.0    1.0   \n",
       "\n",
       "                 total_amount  congestion_surcharge  \n",
       "tip                                                  \n",
       "low      63810          20.55                  2.75  \n",
       "good     85051          16.62                  0.00  \n",
       "standard 101774         12.96                  0.00  \n",
       "no-tip   129046         11.80                  0.00  \n",
       "good     14952          17.25                  0.00  "
      ]
     },
     "execution_count": 74,
     "metadata": {},
     "output_type": "execute_result"
    }
   ],
   "source": [
    "#Univariate feature selection using SelectKBest.\n",
    "\n",
    "k_best   = SelectKBest( #TODO choose either chi2 or f_classif\n",
    "                     k= 7 #TODO: enter the value for k\n",
    "                    )\n",
    "\n",
    "k_best   = k_best.fit(X, y)\n",
    "\n",
    "features = k_best.transform(X)\n",
    "\n",
    "cols = k_best.get_support(indices=True)\n",
    "features_df_new = df.iloc[:,cols]\n",
    "features_df_new.head()#TODO: display the names of the selected features below\n"
   ]
  },
  {
   "cell_type": "markdown",
   "metadata": {},
   "source": [
    "#### Wrapper methods"
   ]
  },
  {
   "cell_type": "markdown",
   "metadata": {},
   "source": [
    "Identify the top seven features using [Support Vector Machines (SVM)](https://scikit-learn.org/stable/modules/svm.html) and [Recursive feature elimination (RFE)](https://scikit-learn.org/stable/modules/generated/sklearn.feature_selection.RFE.html#sklearn.feature_selection.RFE).\n",
    "\n",
    "Here is an example on using [SVMs for classification](https://scikit-learn.org/stable/modules/svm.html#classification) and [RFE](https://scikit-learn.org/stable/auto_examples/feature_selection/plot_rfe_digits.html#sphx-glr-auto-examples-feature-selection-plot-rfe-digits-py) in scikit-learn."
   ]
  },
  {
   "cell_type": "code",
   "execution_count": 75,
   "metadata": {},
   "outputs": [
    {
     "name": "stdout",
     "output_type": "stream",
     "text": [
      "Fitting estimator with 14 features.\n",
      "Fitting estimator with 13 features.\n",
      "Fitting estimator with 12 features.\n",
      "Fitting estimator with 11 features.\n",
      "Fitting estimator with 10 features.\n",
      "Fitting estimator with 9 features.\n",
      "Fitting estimator with 8 features.\n"
     ]
    },
    {
     "data": {
      "text/html": [
       "<div>\n",
       "<style scoped>\n",
       "    .dataframe tbody tr th:only-of-type {\n",
       "        vertical-align: middle;\n",
       "    }\n",
       "\n",
       "    .dataframe tbody tr th {\n",
       "        vertical-align: top;\n",
       "    }\n",
       "\n",
       "    .dataframe thead th {\n",
       "        text-align: right;\n",
       "    }\n",
       "</style>\n",
       "<table border=\"1\" class=\"dataframe\">\n",
       "  <thead>\n",
       "    <tr style=\"text-align: right;\">\n",
       "      <th></th>\n",
       "      <th></th>\n",
       "      <th>RatecodeID</th>\n",
       "      <th>fare_amount</th>\n",
       "      <th>extra</th>\n",
       "      <th>tolls_amount</th>\n",
       "      <th>total_amount</th>\n",
       "      <th>trip_type</th>\n",
       "      <th>congestion_surcharge</th>\n",
       "    </tr>\n",
       "    <tr>\n",
       "      <th>tip</th>\n",
       "      <th></th>\n",
       "      <th></th>\n",
       "      <th></th>\n",
       "      <th></th>\n",
       "      <th></th>\n",
       "      <th></th>\n",
       "      <th></th>\n",
       "      <th></th>\n",
       "    </tr>\n",
       "  </thead>\n",
       "  <tbody>\n",
       "    <tr>\n",
       "      <th>low</th>\n",
       "      <th>63810</th>\n",
       "      <td>1</td>\n",
       "      <td>14.0</td>\n",
       "      <td>1.0</td>\n",
       "      <td>0.0</td>\n",
       "      <td>20.55</td>\n",
       "      <td>1</td>\n",
       "      <td>2.75</td>\n",
       "    </tr>\n",
       "    <tr>\n",
       "      <th>good</th>\n",
       "      <th>85051</th>\n",
       "      <td>1</td>\n",
       "      <td>12.5</td>\n",
       "      <td>0.0</td>\n",
       "      <td>0.0</td>\n",
       "      <td>16.62</td>\n",
       "      <td>1</td>\n",
       "      <td>0.00</td>\n",
       "    </tr>\n",
       "    <tr>\n",
       "      <th>standard</th>\n",
       "      <th>101774</th>\n",
       "      <td>1</td>\n",
       "      <td>9.0</td>\n",
       "      <td>1.0</td>\n",
       "      <td>0.0</td>\n",
       "      <td>12.96</td>\n",
       "      <td>1</td>\n",
       "      <td>0.00</td>\n",
       "    </tr>\n",
       "    <tr>\n",
       "      <th>no-tip</th>\n",
       "      <th>129046</th>\n",
       "      <td>1</td>\n",
       "      <td>11.0</td>\n",
       "      <td>0.0</td>\n",
       "      <td>0.0</td>\n",
       "      <td>11.80</td>\n",
       "      <td>1</td>\n",
       "      <td>0.00</td>\n",
       "    </tr>\n",
       "    <tr>\n",
       "      <th>good</th>\n",
       "      <th>14952</th>\n",
       "      <td>1</td>\n",
       "      <td>12.0</td>\n",
       "      <td>1.0</td>\n",
       "      <td>0.0</td>\n",
       "      <td>17.25</td>\n",
       "      <td>1</td>\n",
       "      <td>0.00</td>\n",
       "    </tr>\n",
       "  </tbody>\n",
       "</table>\n",
       "</div>"
      ],
      "text/plain": [
       "                 RatecodeID  fare_amount  extra  tolls_amount  total_amount  \\\n",
       "tip                                                                           \n",
       "low      63810            1         14.0    1.0           0.0         20.55   \n",
       "good     85051            1         12.5    0.0           0.0         16.62   \n",
       "standard 101774           1          9.0    1.0           0.0         12.96   \n",
       "no-tip   129046           1         11.0    0.0           0.0         11.80   \n",
       "good     14952            1         12.0    1.0           0.0         17.25   \n",
       "\n",
       "                 trip_type  congestion_surcharge  \n",
       "tip                                               \n",
       "low      63810           1                  2.75  \n",
       "good     85051           1                  0.00  \n",
       "standard 101774          1                  0.00  \n",
       "no-tip   129046          1                  0.00  \n",
       "good     14952           1                  0.00  "
      ]
     },
     "execution_count": 75,
     "metadata": {},
     "output_type": "execute_result"
    }
   ],
   "source": [
    "\n",
    "svm_estimator = svm.SVC(kernel='linear') #initialize the SVM estimator\n",
    "\n",
    "#TODO: Recursive Feature Elimination\n",
    "rfe = RFE(estimator= svm_estimator, #TODO: provide the SVM estimator \n",
    "          verbose=1, \n",
    "          n_features_to_select= 7 #TODO: enter the number of required features\n",
    "         )\n",
    "\n",
    "rfe.fit(X, y) #Note: this may take a few minutes to complete\n",
    "\n",
    "cols = rfe.get_support(indices=True)\n",
    "features_df_new_2 = df.iloc[:,cols]\n",
    "features_df_new_2.head()#TODO: display the names of the selected features below\n"
   ]
  },
  {
   "cell_type": "markdown",
   "metadata": {},
   "source": [
    "#### The results\n",
    "Compare and contrast the selected features from the filter and wrapper methods. "
   ]
  },
  {
   "cell_type": "markdown",
   "metadata": {},
   "source": [
    "#TODO: Compare and contrast the results\n",
    "filter: VendorID, DOLocation, Trip distance, Fare amount, Extra, Total amount, congestion surcharge\n",
    "wrapper: RatecodeID, Tolls amount, Trip type, Fare amount, extra, total amount, congestion surcharge"
   ]
  },
  {
   "cell_type": "markdown",
   "metadata": {},
   "source": [
    "### Step 5: Standardize the input features\n",
    "Use the [MinMaxScaler](https://scikit-learn.org/stable/modules/generated/sklearn.preprocessing.MinMaxScaler.html#sklearn.preprocessing.MinMaxScaler) in [scikit-learn's preprocessing module](https://scikit-learn.org/stable/modules/preprocessing.html) to scale the input features between 0.1 and 0.9 (i.e. the min and max respectively). "
   ]
  },
  {
   "cell_type": "code",
   "execution_count": 76,
   "metadata": {},
   "outputs": [],
   "source": [
    "#Standardize the input features\n",
    "scaler = MinMaxScaler(feature_range= (0.1, 0.9)#TODO: provide the min and max values for the features\n",
    "                     )\n",
    "\n",
    "X_s = scaler.fit_transform(X)"
   ]
  },
  {
   "cell_type": "code",
   "execution_count": 77,
   "metadata": {},
   "outputs": [
    {
     "name": "stdout",
     "output_type": "stream",
     "text": [
      "Fitting estimator with 14 features.\n",
      "Fitting estimator with 13 features.\n",
      "Fitting estimator with 12 features.\n",
      "Fitting estimator with 11 features.\n",
      "Fitting estimator with 10 features.\n",
      "Fitting estimator with 9 features.\n",
      "Fitting estimator with 8 features.\n"
     ]
    },
    {
     "data": {
      "text/html": [
       "<div>\n",
       "<style scoped>\n",
       "    .dataframe tbody tr th:only-of-type {\n",
       "        vertical-align: middle;\n",
       "    }\n",
       "\n",
       "    .dataframe tbody tr th {\n",
       "        vertical-align: top;\n",
       "    }\n",
       "\n",
       "    .dataframe thead th {\n",
       "        text-align: right;\n",
       "    }\n",
       "</style>\n",
       "<table border=\"1\" class=\"dataframe\">\n",
       "  <thead>\n",
       "    <tr style=\"text-align: right;\">\n",
       "      <th></th>\n",
       "      <th></th>\n",
       "      <th>trip_distance</th>\n",
       "      <th>fare_amount</th>\n",
       "      <th>mta_tax</th>\n",
       "      <th>tolls_amount</th>\n",
       "      <th>total_amount</th>\n",
       "      <th>trip_type</th>\n",
       "      <th>congestion_surcharge</th>\n",
       "    </tr>\n",
       "    <tr>\n",
       "      <th>tip</th>\n",
       "      <th></th>\n",
       "      <th></th>\n",
       "      <th></th>\n",
       "      <th></th>\n",
       "      <th></th>\n",
       "      <th></th>\n",
       "      <th></th>\n",
       "      <th></th>\n",
       "    </tr>\n",
       "  </thead>\n",
       "  <tbody>\n",
       "    <tr>\n",
       "      <th>low</th>\n",
       "      <th>63810</th>\n",
       "      <td>3.00</td>\n",
       "      <td>14.0</td>\n",
       "      <td>0.5</td>\n",
       "      <td>0.0</td>\n",
       "      <td>20.55</td>\n",
       "      <td>1</td>\n",
       "      <td>2.75</td>\n",
       "    </tr>\n",
       "    <tr>\n",
       "      <th>good</th>\n",
       "      <th>85051</th>\n",
       "      <td>2.79</td>\n",
       "      <td>12.5</td>\n",
       "      <td>0.5</td>\n",
       "      <td>0.0</td>\n",
       "      <td>16.62</td>\n",
       "      <td>1</td>\n",
       "      <td>0.00</td>\n",
       "    </tr>\n",
       "    <tr>\n",
       "      <th>standard</th>\n",
       "      <th>101774</th>\n",
       "      <td>1.60</td>\n",
       "      <td>9.0</td>\n",
       "      <td>0.5</td>\n",
       "      <td>0.0</td>\n",
       "      <td>12.96</td>\n",
       "      <td>1</td>\n",
       "      <td>0.00</td>\n",
       "    </tr>\n",
       "    <tr>\n",
       "      <th>no-tip</th>\n",
       "      <th>129046</th>\n",
       "      <td>1.70</td>\n",
       "      <td>11.0</td>\n",
       "      <td>0.5</td>\n",
       "      <td>0.0</td>\n",
       "      <td>11.80</td>\n",
       "      <td>1</td>\n",
       "      <td>0.00</td>\n",
       "    </tr>\n",
       "    <tr>\n",
       "      <th>good</th>\n",
       "      <th>14952</th>\n",
       "      <td>3.11</td>\n",
       "      <td>12.0</td>\n",
       "      <td>0.5</td>\n",
       "      <td>0.0</td>\n",
       "      <td>17.25</td>\n",
       "      <td>1</td>\n",
       "      <td>0.00</td>\n",
       "    </tr>\n",
       "  </tbody>\n",
       "</table>\n",
       "</div>"
      ],
      "text/plain": [
       "                 trip_distance  fare_amount  mta_tax  tolls_amount  \\\n",
       "tip                                                                  \n",
       "low      63810            3.00         14.0      0.5           0.0   \n",
       "good     85051            2.79         12.5      0.5           0.0   \n",
       "standard 101774           1.60          9.0      0.5           0.0   \n",
       "no-tip   129046           1.70         11.0      0.5           0.0   \n",
       "good     14952            3.11         12.0      0.5           0.0   \n",
       "\n",
       "                 total_amount  trip_type  congestion_surcharge  \n",
       "tip                                                             \n",
       "low      63810          20.55          1                  2.75  \n",
       "good     85051          16.62          1                  0.00  \n",
       "standard 101774         12.96          1                  0.00  \n",
       "no-tip   129046         11.80          1                  0.00  \n",
       "good     14952          17.25          1                  0.00  "
      ]
     },
     "execution_count": 77,
     "metadata": {},
     "output_type": "execute_result"
    }
   ],
   "source": [
    "k_best   = k_best.fit(X_s, y)\n",
    "\n",
    "rfe.fit(X_s, y)#TODO: Perform the SelectKBest and Recursive Feature Elimination steps using the standardized data\n",
    "\n",
    "cols = k_best.get_support(indices=True)\n",
    "features_df_new_3 = df.iloc[:,cols]\n",
    "features_df_new_3.head()\n",
    "\n",
    "cols = rfe.get_support(indices=True)\n",
    "features_df_new_4 = df.iloc[:,cols]\n",
    "features_df_new_4.head()\n",
    "\n",
    "#TODO: display the names of the selected features for each method"
   ]
  },
  {
   "cell_type": "code",
   "execution_count": 78,
   "metadata": {},
   "outputs": [
    {
     "data": {
      "text/html": [
       "<div>\n",
       "<style scoped>\n",
       "    .dataframe tbody tr th:only-of-type {\n",
       "        vertical-align: middle;\n",
       "    }\n",
       "\n",
       "    .dataframe tbody tr th {\n",
       "        vertical-align: top;\n",
       "    }\n",
       "\n",
       "    .dataframe thead th {\n",
       "        text-align: right;\n",
       "    }\n",
       "</style>\n",
       "<table border=\"1\" class=\"dataframe\">\n",
       "  <thead>\n",
       "    <tr style=\"text-align: right;\">\n",
       "      <th></th>\n",
       "      <th></th>\n",
       "      <th>VendorID</th>\n",
       "      <th>DOLocationID</th>\n",
       "      <th>trip_distance</th>\n",
       "      <th>fare_amount</th>\n",
       "      <th>extra</th>\n",
       "      <th>total_amount</th>\n",
       "      <th>congestion_surcharge</th>\n",
       "    </tr>\n",
       "    <tr>\n",
       "      <th>tip</th>\n",
       "      <th></th>\n",
       "      <th></th>\n",
       "      <th></th>\n",
       "      <th></th>\n",
       "      <th></th>\n",
       "      <th></th>\n",
       "      <th></th>\n",
       "      <th></th>\n",
       "    </tr>\n",
       "  </thead>\n",
       "  <tbody>\n",
       "    <tr>\n",
       "      <th>low</th>\n",
       "      <th>63810</th>\n",
       "      <td>2</td>\n",
       "      <td>141</td>\n",
       "      <td>3.00</td>\n",
       "      <td>14.0</td>\n",
       "      <td>1.0</td>\n",
       "      <td>20.55</td>\n",
       "      <td>2.75</td>\n",
       "    </tr>\n",
       "    <tr>\n",
       "      <th>good</th>\n",
       "      <th>85051</th>\n",
       "      <td>2</td>\n",
       "      <td>61</td>\n",
       "      <td>2.79</td>\n",
       "      <td>12.5</td>\n",
       "      <td>0.0</td>\n",
       "      <td>16.62</td>\n",
       "      <td>0.00</td>\n",
       "    </tr>\n",
       "    <tr>\n",
       "      <th>standard</th>\n",
       "      <th>101774</th>\n",
       "      <td>2</td>\n",
       "      <td>28</td>\n",
       "      <td>1.60</td>\n",
       "      <td>9.0</td>\n",
       "      <td>1.0</td>\n",
       "      <td>12.96</td>\n",
       "      <td>0.00</td>\n",
       "    </tr>\n",
       "    <tr>\n",
       "      <th>no-tip</th>\n",
       "      <th>129046</th>\n",
       "      <td>2</td>\n",
       "      <td>42</td>\n",
       "      <td>1.70</td>\n",
       "      <td>11.0</td>\n",
       "      <td>0.0</td>\n",
       "      <td>11.80</td>\n",
       "      <td>0.00</td>\n",
       "    </tr>\n",
       "    <tr>\n",
       "      <th>good</th>\n",
       "      <th>14952</th>\n",
       "      <td>2</td>\n",
       "      <td>166</td>\n",
       "      <td>3.11</td>\n",
       "      <td>12.0</td>\n",
       "      <td>1.0</td>\n",
       "      <td>17.25</td>\n",
       "      <td>0.00</td>\n",
       "    </tr>\n",
       "  </tbody>\n",
       "</table>\n",
       "</div>"
      ],
      "text/plain": [
       "                 VendorID  DOLocationID  trip_distance  fare_amount  extra  \\\n",
       "tip                                                                          \n",
       "low      63810          2           141           3.00         14.0    1.0   \n",
       "good     85051          2            61           2.79         12.5    0.0   \n",
       "standard 101774         2            28           1.60          9.0    1.0   \n",
       "no-tip   129046         2            42           1.70         11.0    0.0   \n",
       "good     14952          2           166           3.11         12.0    1.0   \n",
       "\n",
       "                 total_amount  congestion_surcharge  \n",
       "tip                                                  \n",
       "low      63810          20.55                  2.75  \n",
       "good     85051          16.62                  0.00  \n",
       "standard 101774         12.96                  0.00  \n",
       "no-tip   129046         11.80                  0.00  \n",
       "good     14952          17.25                  0.00  "
      ]
     },
     "execution_count": 78,
     "metadata": {},
     "output_type": "execute_result"
    }
   ],
   "source": [
    "features_df_new_3.head()"
   ]
  },
  {
   "cell_type": "markdown",
   "metadata": {},
   "source": [
    "#### The results\n",
    "Compare and contrast the scaled features from the filter and wrapper methods. "
   ]
  },
  {
   "cell_type": "markdown",
   "metadata": {},
   "source": [
    "#TODO: Compare and contrast the results\n",
    "\n",
    "Filter: VendorID, DOLocation, trip distance, fare amiunt, extra, total amount, congestion surcharge\n",
    "Wrapper: trip distance, fare amount, mta tax, tolls amount, trip type, congestion surcharge"
   ]
  },
  {
   "cell_type": "markdown",
   "metadata": {},
   "source": [
    "### Step 6: Explain the effect of standardizing the data"
   ]
  },
  {
   "cell_type": "markdown",
   "metadata": {},
   "source": [
    "#TODO: Explain the effect of standardizing the data\n",
    "\n",
    "Standardizing the data makes it easy to track data that usually isn't easy to compare. Standardization comes into picture when features of input data set have large differences between their ranges, or simply when they are measured in different measurement units. Once the data is standarized we get a different view of what features can effect a model. "
   ]
  },
  {
   "cell_type": "markdown",
   "metadata": {},
   "source": [
    "### Step 7:  Observations about the selected features\n",
    "Based on your observations about the features, did the algorithm identify meaningful features and did they align with your previous intuition about the data (Recall the data wrangling exercise)? Did it identify any features that you would not have otherwise considered."
   ]
  },
  {
   "cell_type": "markdown",
   "metadata": {},
   "source": [
    "#TODO: Explain your observations.\n",
    "When I did the data wrangling I thought that the fare amount would be a feature that determined tip amount. As people would most likely tip less for a higher fare. Thus was shown by the plot I did in the data wrangling assignment. The one feature I did not think to have an effect was the mta tax. When doing any models, it would have occured to me to "
   ]
  }
 ],
 "metadata": {
  "kernelspec": {
   "display_name": "Python 3 (ipykernel)",
   "language": "python",
   "name": "python3"
  },
  "language_info": {
   "codemirror_mode": {
    "name": "ipython",
    "version": 3
   },
   "file_extension": ".py",
   "mimetype": "text/x-python",
   "name": "python",
   "nbconvert_exporter": "python",
   "pygments_lexer": "ipython3",
   "version": "3.9.7"
  }
 },
 "nbformat": 4,
 "nbformat_minor": 2
}
